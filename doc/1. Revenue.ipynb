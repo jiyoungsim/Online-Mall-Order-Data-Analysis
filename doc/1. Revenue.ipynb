{
 "cells": [
  {
   "cell_type": "markdown",
   "metadata": {},
   "source": [
    "#### Import modules"
   ]
  },
  {
   "cell_type": "code",
   "execution_count": 1,
   "metadata": {},
   "outputs": [],
   "source": [
    "import numpy as np\n",
    "import pandas as pd\n",
    "import seaborn as sns\n",
    "COLORS = sns.color_palette()\n",
    "import matplotlib.pyplot as plt\n",
    "\n",
    "%matplotlib inline"
   ]
  },
  {
   "cell_type": "markdown",
   "metadata": {},
   "source": [
    "#### Load data"
   ]
  },
  {
   "cell_type": "code",
   "execution_count": 19,
   "metadata": {},
   "outputs": [
    {
     "data": {
      "text/html": [
       "<div>\n",
       "<style scoped>\n",
       "    .dataframe tbody tr th:only-of-type {\n",
       "        vertical-align: middle;\n",
       "    }\n",
       "\n",
       "    .dataframe tbody tr th {\n",
       "        vertical-align: top;\n",
       "    }\n",
       "\n",
       "    .dataframe thead th {\n",
       "        text-align: right;\n",
       "    }\n",
       "</style>\n",
       "<table border=\"1\" class=\"dataframe\">\n",
       "  <thead>\n",
       "    <tr style=\"text-align: right;\">\n",
       "      <th></th>\n",
       "      <th>InvoiceNo</th>\n",
       "      <th>StockCode</th>\n",
       "      <th>Description</th>\n",
       "      <th>Quantity</th>\n",
       "      <th>InvoiceDate</th>\n",
       "      <th>UnitPrice</th>\n",
       "      <th>CustomerID</th>\n",
       "      <th>Country</th>\n",
       "      <th>CheckoutPrice</th>\n",
       "    </tr>\n",
       "  </thead>\n",
       "  <tbody>\n",
       "    <tr>\n",
       "      <th>0</th>\n",
       "      <td>536365</td>\n",
       "      <td>85123A</td>\n",
       "      <td>WHITE HANGING HEART T-LIGHT HOLDER</td>\n",
       "      <td>6</td>\n",
       "      <td>2010-12-01 08:26:00</td>\n",
       "      <td>2.55</td>\n",
       "      <td>17850</td>\n",
       "      <td>United Kingdom</td>\n",
       "      <td>15.299999</td>\n",
       "    </tr>\n",
       "    <tr>\n",
       "      <th>1</th>\n",
       "      <td>536365</td>\n",
       "      <td>71053</td>\n",
       "      <td>WHITE METAL LANTERN</td>\n",
       "      <td>6</td>\n",
       "      <td>2010-12-01 08:26:00</td>\n",
       "      <td>3.39</td>\n",
       "      <td>17850</td>\n",
       "      <td>United Kingdom</td>\n",
       "      <td>20.340000</td>\n",
       "    </tr>\n",
       "    <tr>\n",
       "      <th>2</th>\n",
       "      <td>536365</td>\n",
       "      <td>84406B</td>\n",
       "      <td>CREAM CUPID HEARTS COAT HANGER</td>\n",
       "      <td>8</td>\n",
       "      <td>2010-12-01 08:26:00</td>\n",
       "      <td>2.75</td>\n",
       "      <td>17850</td>\n",
       "      <td>United Kingdom</td>\n",
       "      <td>22.000000</td>\n",
       "    </tr>\n",
       "    <tr>\n",
       "      <th>3</th>\n",
       "      <td>536365</td>\n",
       "      <td>84029G</td>\n",
       "      <td>KNITTED UNION FLAG HOT WATER BOTTLE</td>\n",
       "      <td>6</td>\n",
       "      <td>2010-12-01 08:26:00</td>\n",
       "      <td>3.39</td>\n",
       "      <td>17850</td>\n",
       "      <td>United Kingdom</td>\n",
       "      <td>20.340000</td>\n",
       "    </tr>\n",
       "    <tr>\n",
       "      <th>4</th>\n",
       "      <td>536365</td>\n",
       "      <td>84029E</td>\n",
       "      <td>RED WOOLLY HOTTIE WHITE HEART.</td>\n",
       "      <td>6</td>\n",
       "      <td>2010-12-01 08:26:00</td>\n",
       "      <td>3.39</td>\n",
       "      <td>17850</td>\n",
       "      <td>United Kingdom</td>\n",
       "      <td>20.340000</td>\n",
       "    </tr>\n",
       "  </tbody>\n",
       "</table>\n",
       "</div>"
      ],
      "text/plain": [
       "   InvoiceNo StockCode                          Description  Quantity  \\\n",
       "0     536365    85123A   WHITE HANGING HEART T-LIGHT HOLDER         6   \n",
       "1     536365     71053                  WHITE METAL LANTERN         6   \n",
       "2     536365    84406B       CREAM CUPID HEARTS COAT HANGER         8   \n",
       "3     536365    84029G  KNITTED UNION FLAG HOT WATER BOTTLE         6   \n",
       "4     536365    84029E       RED WOOLLY HOTTIE WHITE HEART.         6   \n",
       "\n",
       "          InvoiceDate  UnitPrice  CustomerID         Country  CheckoutPrice  \n",
       "0 2010-12-01 08:26:00       2.55       17850  United Kingdom      15.299999  \n",
       "1 2010-12-01 08:26:00       3.39       17850  United Kingdom      20.340000  \n",
       "2 2010-12-01 08:26:00       2.75       17850  United Kingdom      22.000000  \n",
       "3 2010-12-01 08:26:00       3.39       17850  United Kingdom      20.340000  \n",
       "4 2010-12-01 08:26:00       3.39       17850  United Kingdom      20.340000  "
      ]
     },
     "execution_count": 19,
     "metadata": {},
     "output_type": "execute_result"
    }
   ],
   "source": [
    "retail = pd.read_csv('../output/OnlineRetailClean.csv', parse_dates = ['InvoiceDate'])\n",
    "retail.head()"
   ]
  },
  {
   "cell_type": "code",
   "execution_count": 3,
   "metadata": {},
   "outputs": [
    {
     "name": "stdout",
     "output_type": "stream",
     "text": [
      "<class 'pandas.core.frame.DataFrame'>\n",
      "RangeIndex: 397884 entries, 0 to 397883\n",
      "Data columns (total 9 columns):\n",
      "InvoiceNo        397884 non-null int64\n",
      "StockCode        397884 non-null object\n",
      "Description      397884 non-null object\n",
      "Quantity         397884 non-null int64\n",
      "InvoiceDate      397884 non-null datetime64[ns]\n",
      "UnitPrice        397884 non-null float64\n",
      "CustomerID       397884 non-null int64\n",
      "Country          397884 non-null object\n",
      "CheckoutPrice    397884 non-null float64\n",
      "dtypes: datetime64[ns](1), float64(2), int64(3), object(3)\n",
      "memory usage: 27.3+ MB\n"
     ]
    }
   ],
   "source": [
    "retail.info()"
   ]
  },
  {
   "cell_type": "markdown",
   "metadata": {},
   "source": [
    "#### Revenue\n",
    "- Total revenue\n",
    "- Revenue by country\n",
    "- Revenue by month\n",
    "- Revenue by day of week\n",
    "- Revenue by time\n",
    "\n",
    "#### Total revenue"
   ]
  },
  {
   "cell_type": "code",
   "execution_count": 4,
   "metadata": {},
   "outputs": [
    {
     "data": {
      "text/plain": [
       "8911407.88637655"
      ]
     },
     "execution_count": 4,
     "metadata": {},
     "output_type": "execute_result"
    }
   ],
   "source": [
    "total_revenue = retail['CheckoutPrice'].sum()\n",
    "total_revenue"
   ]
  },
  {
   "cell_type": "markdown",
   "metadata": {},
   "source": [
    "#### Revenue by country"
   ]
  },
  {
   "cell_type": "code",
   "execution_count": 5,
   "metadata": {},
   "outputs": [
    {
     "data": {
      "text/plain": [
       "Country\n",
       "United Kingdom          7.308392e+06\n",
       "Netherlands             2.854463e+05\n",
       "EIRE                    2.655459e+05\n",
       "Germany                 2.288671e+05\n",
       "France                  2.090241e+05\n",
       "Australia               1.385213e+05\n",
       "Spain                   6.157711e+04\n",
       "Switzerland             5.644395e+04\n",
       "Belgium                 4.119634e+04\n",
       "Sweden                  3.837833e+04\n",
       "Japan                   3.741637e+04\n",
       "Norway                  3.616544e+04\n",
       "Portugal                3.343989e+04\n",
       "Finland                 2.254608e+04\n",
       "Singapore               2.127929e+04\n",
       "Channel Islands         2.045044e+04\n",
       "Denmark                 1.895534e+04\n",
       "Italy                   1.748324e+04\n",
       "Cyprus                  1.359038e+04\n",
       "Austria                 1.019868e+04\n",
       "Poland                  7.334650e+03\n",
       "Israel                  7.221690e+03\n",
       "Greece                  4.760520e+03\n",
       "Iceland                 4.310000e+03\n",
       "Canada                  3.666380e+03\n",
       "USA                     3.580390e+03\n",
       "Malta                   2.725590e+03\n",
       "Unspecified             2.667070e+03\n",
       "United Arab Emirates    1.902280e+03\n",
       "Lebanon                 1.693880e+03\n",
       "Lithuania               1.661060e+03\n",
       "European Community      1.300250e+03\n",
       "Brazil                  1.143600e+03\n",
       "RSA                     1.002310e+03\n",
       "Czech Republic          8.267400e+02\n",
       "Bahrain                 5.484000e+02\n",
       "Saudi Arabia            1.459200e+02\n",
       "Name: CheckoutPrice, dtype: float64"
      ]
     },
     "execution_count": 5,
     "metadata": {},
     "output_type": "execute_result"
    }
   ],
   "source": [
    "rev_by_country = retail.groupby('Country').sum()['CheckoutPrice'].sort_values(ascending = False)\n",
    "rev_by_country"
   ]
  },
  {
   "cell_type": "code",
   "execution_count": 6,
   "metadata": {},
   "outputs": [
    {
     "data": {
      "text/plain": [
       "Country\n",
       "United Kingdom          82.011638\n",
       "Netherlands              3.203156\n",
       "EIRE                     2.979842\n",
       "Germany                  2.568249\n",
       "France                   2.345578\n",
       "Australia                1.554427\n",
       "Spain                    0.690992\n",
       "Switzerland              0.633390\n",
       "Belgium                  0.462288\n",
       "Sweden                   0.430665\n",
       "Japan                    0.419870\n",
       "Norway                   0.405833\n",
       "Portugal                 0.375248\n",
       "Finland                  0.253002\n",
       "Singapore                0.238787\n",
       "Channel Islands          0.229486\n",
       "Denmark                  0.212709\n",
       "Italy                    0.196189\n",
       "Cyprus                   0.152505\n",
       "Austria                  0.114445\n",
       "Poland                   0.082306\n",
       "Israel                   0.081039\n",
       "Greece                   0.053421\n",
       "Iceland                  0.048365\n",
       "Canada                   0.041143\n",
       "USA                      0.040178\n",
       "Malta                    0.030585\n",
       "Unspecified              0.029929\n",
       "United Arab Emirates     0.021347\n",
       "Lebanon                  0.019008\n",
       "Lithuania                0.018640\n",
       "European Community       0.014591\n",
       "Brazil                   0.012833\n",
       "RSA                      0.011247\n",
       "Czech Republic           0.009277\n",
       "Bahrain                  0.006154\n",
       "Saudi Arabia             0.001637\n",
       "Name: CheckoutPrice, dtype: float64"
      ]
     },
     "execution_count": 6,
     "metadata": {},
     "output_type": "execute_result"
    }
   ],
   "source": [
    "rev_by_country_pct = rev_by_country / total_revenue * 100\n",
    "rev_by_country_pct"
   ]
  },
  {
   "cell_type": "code",
   "execution_count": 107,
   "metadata": {},
   "outputs": [
    {
     "data": {
      "image/png": "[encoded data removed]",
      "text/plain": [
       "<Figure size 1440x720 with 1 Axes>"
      ]
     },
     "metadata": {
      "needs_background": "light"
     },
     "output_type": "display_data"
    }
   ],
   "source": [
    "def plot_bar(df, xlabel, ylabel, title, color=COLORS[0], figsize=(20,10), rotation=45):\n",
    "    fig, ax = plt.subplots(1, 1, figsize=figsize)\n",
    "    ax.bar(df.index.astype(str), df, color=color)\n",
    "    ax.set_xlabel(xlabel, fontsize=11)\n",
    "    ax.set_ylabel(ylabel, fontsize=11)\n",
    "    ax.set_title(title, fontsize=13)\n",
    "    ax.set_xticklabels(df.index,rotation=rotation)\n",
    "    \n",
    "plot_bar(rev_by_country_pct, 'Country', 'Percent (%)', 'Revenue by Country in Percentage')"
   ]
  },
  {
   "cell_type": "markdown",
   "metadata": {},
   "source": [
    "#### Revenue by month"
   ]
  },
  {
   "cell_type": "code",
   "execution_count": 108,
   "metadata": {},
   "outputs": [
    {
     "data": {
      "text/plain": [
       "0        2010-12-01 08:26:00\n",
       "1        2010-12-01 08:26:00\n",
       "2        2010-12-01 08:26:00\n",
       "3        2010-12-01 08:26:00\n",
       "4        2010-12-01 08:26:00\n",
       "5        2010-12-01 08:26:00\n",
       "6        2010-12-01 08:26:00\n",
       "7        2010-12-01 08:28:00\n",
       "8        2010-12-01 08:28:00\n",
       "24       2010-12-01 08:34:00\n",
       "22       2010-12-01 08:34:00\n",
       "21       2010-12-01 08:34:00\n",
       "20       2010-12-01 08:34:00\n",
       "19       2010-12-01 08:34:00\n",
       "18       2010-12-01 08:34:00\n",
       "17       2010-12-01 08:34:00\n",
       "23       2010-12-01 08:34:00\n",
       "15       2010-12-01 08:34:00\n",
       "14       2010-12-01 08:34:00\n",
       "13       2010-12-01 08:34:00\n",
       "12       2010-12-01 08:34:00\n",
       "11       2010-12-01 08:34:00\n",
       "10       2010-12-01 08:34:00\n",
       "9        2010-12-01 08:34:00\n",
       "16       2010-12-01 08:34:00\n",
       "25       2010-12-01 08:35:00\n",
       "38       2010-12-01 08:45:00\n",
       "39       2010-12-01 08:45:00\n",
       "40       2010-12-01 08:45:00\n",
       "44       2010-12-01 08:45:00\n",
       "                 ...        \n",
       "397862   2011-12-09 12:31:00\n",
       "397852   2011-12-09 12:31:00\n",
       "397853   2011-12-09 12:31:00\n",
       "397845   2011-12-09 12:31:00\n",
       "397846   2011-12-09 12:31:00\n",
       "397847   2011-12-09 12:31:00\n",
       "397844   2011-12-09 12:31:00\n",
       "397849   2011-12-09 12:31:00\n",
       "397850   2011-12-09 12:31:00\n",
       "397851   2011-12-09 12:31:00\n",
       "397848   2011-12-09 12:31:00\n",
       "397865   2011-12-09 12:49:00\n",
       "397866   2011-12-09 12:49:00\n",
       "397867   2011-12-09 12:49:00\n",
       "397868   2011-12-09 12:49:00\n",
       "397881   2011-12-09 12:50:00\n",
       "397877   2011-12-09 12:50:00\n",
       "397880   2011-12-09 12:50:00\n",
       "397879   2011-12-09 12:50:00\n",
       "397878   2011-12-09 12:50:00\n",
       "397876   2011-12-09 12:50:00\n",
       "397869   2011-12-09 12:50:00\n",
       "397874   2011-12-09 12:50:00\n",
       "397873   2011-12-09 12:50:00\n",
       "397872   2011-12-09 12:50:00\n",
       "397871   2011-12-09 12:50:00\n",
       "397870   2011-12-09 12:50:00\n",
       "397882   2011-12-09 12:50:00\n",
       "397875   2011-12-09 12:50:00\n",
       "397883   2011-12-09 12:50:00\n",
       "Name: InvoiceDate, Length: 397884, dtype: datetime64[ns]"
      ]
     },
     "execution_count": 108,
     "metadata": {},
     "output_type": "execute_result"
    }
   ],
   "source": [
    "retail['InvoiceDate'].sort_values()"
   ]
  },
  {
   "cell_type": "code",
   "execution_count": 109,
   "metadata": {},
   "outputs": [],
   "source": [
    "def extract_month(date):\n",
    "    return '{}{:02d}'.format(date.year, date.month) # yyyymm"
   ]
  },
  {
   "cell_type": "code",
   "execution_count": 110,
   "metadata": {},
   "outputs": [
    {
     "data": {
      "text/plain": [
       "201012    5.727139e+05\n",
       "201101    5.694450e+05\n",
       "201102    4.471373e+05\n",
       "201103    5.955008e+05\n",
       "201104    4.692004e+05\n",
       "201105    6.785946e+05\n",
       "201106    6.612137e+05\n",
       "201107    6.000910e+05\n",
       "201108    6.453439e+05\n",
       "201109    9.528384e+05\n",
       "201110    1.039319e+06\n",
       "201111    1.161817e+06\n",
       "201112    5.181928e+05\n",
       "Name: CheckoutPrice, dtype: float64"
      ]
     },
     "execution_count": 110,
     "metadata": {},
     "output_type": "execute_result"
    }
   ],
   "source": [
    "rev_by_month = retail.set_index('InvoiceDate').groupby(extract_month).sum()['CheckoutPrice']\n",
    "rev_by_month"
   ]
  },
  {
   "cell_type": "code",
   "execution_count": 111,
   "metadata": {},
   "outputs": [
    {
     "data": {
      "text/plain": [
       "201012     6.426750\n",
       "201101     6.390068\n",
       "201102     5.017584\n",
       "201103     6.682454\n",
       "201104     5.265165\n",
       "201105     7.614897\n",
       "201106     7.419857\n",
       "201107     6.733964\n",
       "201108     7.241773\n",
       "201109    10.692344\n",
       "201110    11.662790\n",
       "201111    13.037417\n",
       "201112     5.814937\n",
       "Name: CheckoutPrice, dtype: float64"
      ]
     },
     "execution_count": 111,
     "metadata": {},
     "output_type": "execute_result"
    }
   ],
   "source": [
    "rev_by_month_pct = rev_by_month / total_revenue * 100\n",
    "rev_by_month_pct"
   ]
  },
  {
   "cell_type": "code",
   "execution_count": 112,
   "metadata": {},
   "outputs": [
    {
     "data": {
      "image/png": "[encoded data removed]",
      "text/plain": [
       "<Figure size 1440x720 with 1 Axes>"
      ]
     },
     "metadata": {
      "needs_background": "light"
     },
     "output_type": "display_data"
    }
   ],
   "source": [
    "plot_bar(rev_by_month_pct, 'Month', 'Percent (%)', 'Revenue by Month in Percentage')"
   ]
  },
  {
   "cell_type": "markdown",
   "metadata": {},
   "source": [
    "#### Revenue by day of week"
   ]
  },
  {
   "cell_type": "code",
   "execution_count": 113,
   "metadata": {},
   "outputs": [
    {
     "data": {
      "text/plain": [
       "0    1.367146e+06\n",
       "1    1.700635e+06\n",
       "2    1.588336e+06\n",
       "3    1.976859e+06\n",
       "4    1.485917e+06\n",
       "6    7.925142e+05\n",
       "Name: CheckoutPrice, dtype: float64"
      ]
     },
     "execution_count": 113,
     "metadata": {},
     "output_type": "execute_result"
    }
   ],
   "source": [
    "rev_by_dow = retail.set_index('InvoiceDate').groupby(lambda x: x.dayofweek).sum()['CheckoutPrice']\n",
    "rev_by_dow"
   ]
  },
  {
   "cell_type": "code",
   "execution_count": 114,
   "metadata": {},
   "outputs": [],
   "source": [
    "dow = np.array(['Mon', 'Tue', 'Wed', 'Thu', 'Fri', 'Sat', 'Sun'])\n",
    "rev_by_dow.index = dow[rev_by_dow.index]"
   ]
  },
  {
   "cell_type": "code",
   "execution_count": 115,
   "metadata": {},
   "outputs": [
    {
     "data": {
      "text/plain": [
       "Mon    15.341531\n",
       "Tue    19.083793\n",
       "Wed    17.823628\n",
       "Thu    22.183465\n",
       "Fri    16.674328\n",
       "Sun     8.893255\n",
       "Name: CheckoutPrice, dtype: float64"
      ]
     },
     "execution_count": 115,
     "metadata": {},
     "output_type": "execute_result"
    }
   ],
   "source": [
    "rev_by_dow_pct = rev_by_dow / total_revenue * 100\n",
    "rev_by_dow_pct"
   ]
  },
  {
   "cell_type": "code",
   "execution_count": 116,
   "metadata": {},
   "outputs": [
    {
     "data": {
      "image/png": "[encoded data removed]",
      "text/plain": [
       "<Figure size 1440x720 with 1 Axes>"
      ]
     },
     "metadata": {
      "needs_background": "light"
     },
     "output_type": "display_data"
    }
   ],
   "source": [
    "plot_bar(rev_by_dow_pct, 'Day of Week', 'Percent (%)', 'Revenue by Day of Week in Percentage', rotation=0)"
   ]
  },
  {
   "cell_type": "markdown",
   "metadata": {},
   "source": [
    "#### Revenue by time"
   ]
  },
  {
   "cell_type": "code",
   "execution_count": 117,
   "metadata": {},
   "outputs": [
    {
     "data": {
      "text/plain": [
       "6     4.250000e+00\n",
       "7     3.105921e+04\n",
       "8     2.821156e+05\n",
       "9     8.426052e+05\n",
       "10    1.261193e+06\n",
       "11    1.104559e+06\n",
       "12    1.378571e+06\n",
       "13    1.173265e+06\n",
       "14    9.956294e+05\n",
       "15    9.661917e+05\n",
       "16    4.688858e+05\n",
       "17    2.344135e+05\n",
       "18    1.049544e+05\n",
       "19    4.902846e+04\n",
       "20    1.893276e+04\n",
       "Name: CheckoutPrice, dtype: float64"
      ]
     },
     "execution_count": 117,
     "metadata": {},
     "output_type": "execute_result"
    }
   ],
   "source": [
    "rev_by_time = retail.set_index('InvoiceDate').groupby(lambda x: x.hour).sum()['CheckoutPrice']\n",
    "rev_by_time"
   ]
  },
  {
   "cell_type": "code",
   "execution_count": 118,
   "metadata": {},
   "outputs": [
    {
     "data": {
      "text/plain": [
       "6      0.000048\n",
       "7      0.348533\n",
       "8      3.165781\n",
       "9      9.455354\n",
       "10    14.152562\n",
       "11    12.394885\n",
       "12    15.469738\n",
       "13    13.165874\n",
       "14    11.172526\n",
       "15    10.842190\n",
       "16     5.261635\n",
       "17     2.630488\n",
       "18     1.177754\n",
       "19     0.550176\n",
       "20     0.212455\n",
       "Name: CheckoutPrice, dtype: float64"
      ]
     },
     "execution_count": 118,
     "metadata": {},
     "output_type": "execute_result"
    }
   ],
   "source": [
    "rev_by_time_pct = rev_by_time / total_revenue * 100\n",
    "rev_by_time_pct"
   ]
  },
  {
   "cell_type": "code",
   "execution_count": 119,
   "metadata": {},
   "outputs": [
    {
     "data": {
      "image/png": "[encoded data removed]",
      "text/plain": [
       "<Figure size 1440x720 with 1 Axes>"
      ]
     },
     "metadata": {
      "needs_background": "light"
     },
     "output_type": "display_data"
    }
   ],
   "source": [
    "plot_bar(rev_by_time_pct, 'Time', 'Percent (%)', 'Revenue by Time in Percentage', rotation=0)"
   ]
  },
  {
   "cell_type": "markdown",
   "metadata": {},
   "source": [
    "#### Insights from the data\n",
    "- 82% of the revenue is from the UK\n",
    "- November 2011 was the month with highest revenue (note not all dates for December 2011 were included in the data).\n",
    "- Revenue by day of week increases untill Thursday and then decreases. There are no orders on Saturdays.\n",
    "- Revenue by time increases from 7 AM to 12 PM, then decreases. After 3 PM (15:00), revenue decreases more dratically."
   ]
  },
  {
   "cell_type": "markdown",
   "metadata": {},
   "source": [
    "#### Top selling and top revenue\n",
    "- Top 10 selling items\n",
    "- Top 10 revenue items"
   ]
  },
  {
   "cell_type": "code",
   "execution_count": 120,
   "metadata": {},
   "outputs": [
    {
     "name": "stdout",
     "output_type": "stream",
     "text": [
      "Top selling items\n"
     ]
    },
    {
     "data": {
      "text/plain": [
       "StockCode\n",
       "23843     80995\n",
       "23166     77916\n",
       "84077     54415\n",
       "22197     49183\n",
       "85099B    46181\n",
       "85123A    36782\n",
       "84879     35362\n",
       "21212     33693\n",
       "23084     27202\n",
       "22492     26076\n",
       "Name: Quantity, dtype: int64"
      ]
     },
     "execution_count": 120,
     "metadata": {},
     "output_type": "execute_result"
    }
   ],
   "source": [
    "top_selling = retail.groupby('StockCode').sum()['Quantity'].sort_values(ascending=False)[:10]\n",
    "print('Top selling items')\n",
    "top_selling"
   ]
  },
  {
   "cell_type": "code",
   "execution_count": 121,
   "metadata": {},
   "outputs": [
    {
     "name": "stdout",
     "output_type": "stream",
     "text": [
      "Top revenue items\n"
     ]
    },
    {
     "data": {
      "text/plain": [
       "StockCode\n",
       "23843     168469.600000\n",
       "22423     142592.949740\n",
       "85123A    100603.499944\n",
       "85099B     85220.779884\n",
       "23166      81416.719990\n",
       "POST       77803.960000\n",
       "47566      68844.329717\n",
       "84879      56580.340540\n",
       "M          53779.929994\n",
       "23084      51346.199251\n",
       "Name: CheckoutPrice, dtype: float64"
      ]
     },
     "execution_count": 121,
     "metadata": {},
     "output_type": "execute_result"
    }
   ],
   "source": [
    "top_revenue = retail.groupby('StockCode').sum()['CheckoutPrice'].sort_values(ascending=False)[:10]\n",
    "print('Top revenue items')\n",
    "top_revenue"
   ]
  },
  {
   "cell_type": "markdown",
   "metadata": {},
   "source": [
    "#### Revenue from top selling items by month"
   ]
  },
  {
   "cell_type": "code",
   "execution_count": 122,
   "metadata": {},
   "outputs": [
    {
     "data": {
      "text/html": [
       "<div>\n",
       "<style scoped>\n",
       "    .dataframe tbody tr th:only-of-type {\n",
       "        vertical-align: middle;\n",
       "    }\n",
       "\n",
       "    .dataframe tbody tr th {\n",
       "        vertical-align: top;\n",
       "    }\n",
       "\n",
       "    .dataframe thead th {\n",
       "        text-align: right;\n",
       "    }\n",
       "</style>\n",
       "<table border=\"1\" class=\"dataframe\">\n",
       "  <thead>\n",
       "    <tr style=\"text-align: right;\">\n",
       "      <th></th>\n",
       "      <th></th>\n",
       "      <th>Quantity</th>\n",
       "      <th>CheckoutPrice</th>\n",
       "    </tr>\n",
       "    <tr>\n",
       "      <th>StockCode</th>\n",
       "      <th></th>\n",
       "      <th></th>\n",
       "      <th></th>\n",
       "    </tr>\n",
       "  </thead>\n",
       "  <tbody>\n",
       "    <tr>\n",
       "      <th rowspan=\"9\" valign=\"top\">23166</th>\n",
       "      <th>201101</th>\n",
       "      <td>74215</td>\n",
       "      <td>77183.590000</td>\n",
       "    </tr>\n",
       "    <tr>\n",
       "      <th>201105</th>\n",
       "      <td>792</td>\n",
       "      <td>869.039990</td>\n",
       "    </tr>\n",
       "    <tr>\n",
       "      <th>201106</th>\n",
       "      <td>391</td>\n",
       "      <td>458.510000</td>\n",
       "    </tr>\n",
       "    <tr>\n",
       "      <th>201107</th>\n",
       "      <td>718</td>\n",
       "      <td>826.940000</td>\n",
       "    </tr>\n",
       "    <tr>\n",
       "      <th>201108</th>\n",
       "      <td>405</td>\n",
       "      <td>486.090000</td>\n",
       "    </tr>\n",
       "    <tr>\n",
       "      <th>201109</th>\n",
       "      <td>342</td>\n",
       "      <td>397.260000</td>\n",
       "    </tr>\n",
       "    <tr>\n",
       "      <th>201110</th>\n",
       "      <td>235</td>\n",
       "      <td>283.670000</td>\n",
       "    </tr>\n",
       "    <tr>\n",
       "      <th>201111</th>\n",
       "      <td>631</td>\n",
       "      <td>708.110000</td>\n",
       "    </tr>\n",
       "    <tr>\n",
       "      <th>201112</th>\n",
       "      <td>187</td>\n",
       "      <td>203.510000</td>\n",
       "    </tr>\n",
       "    <tr>\n",
       "      <th>23843</th>\n",
       "      <th>201112</th>\n",
       "      <td>80995</td>\n",
       "      <td>168469.600000</td>\n",
       "    </tr>\n",
       "    <tr>\n",
       "      <th rowspan=\"13\" valign=\"top\">84077</th>\n",
       "      <th>201012</th>\n",
       "      <td>5139</td>\n",
       "      <td>1150.470000</td>\n",
       "    </tr>\n",
       "    <tr>\n",
       "      <th>201101</th>\n",
       "      <td>1488</td>\n",
       "      <td>385.440000</td>\n",
       "    </tr>\n",
       "    <tr>\n",
       "      <th>201102</th>\n",
       "      <td>3457</td>\n",
       "      <td>795.170000</td>\n",
       "    </tr>\n",
       "    <tr>\n",
       "      <th>201103</th>\n",
       "      <td>3888</td>\n",
       "      <td>943.200000</td>\n",
       "    </tr>\n",
       "    <tr>\n",
       "      <th>201104</th>\n",
       "      <td>10224</td>\n",
       "      <td>2281.439950</td>\n",
       "    </tr>\n",
       "    <tr>\n",
       "      <th>201105</th>\n",
       "      <td>4944</td>\n",
       "      <td>1249.440000</td>\n",
       "    </tr>\n",
       "    <tr>\n",
       "      <th>201106</th>\n",
       "      <td>1920</td>\n",
       "      <td>533.760000</td>\n",
       "    </tr>\n",
       "    <tr>\n",
       "      <th>201107</th>\n",
       "      <td>3600</td>\n",
       "      <td>982.559995</td>\n",
       "    </tr>\n",
       "    <tr>\n",
       "      <th>201108</th>\n",
       "      <td>2256</td>\n",
       "      <td>654.240000</td>\n",
       "    </tr>\n",
       "    <tr>\n",
       "      <th>201109</th>\n",
       "      <td>3462</td>\n",
       "      <td>985.699999</td>\n",
       "    </tr>\n",
       "    <tr>\n",
       "      <th>201110</th>\n",
       "      <td>8174</td>\n",
       "      <td>1953.979940</td>\n",
       "    </tr>\n",
       "    <tr>\n",
       "      <th>201111</th>\n",
       "      <td>4500</td>\n",
       "      <td>1294.200000</td>\n",
       "    </tr>\n",
       "    <tr>\n",
       "      <th>201112</th>\n",
       "      <td>1363</td>\n",
       "      <td>376.650000</td>\n",
       "    </tr>\n",
       "  </tbody>\n",
       "</table>\n",
       "</div>"
      ],
      "text/plain": [
       "                  Quantity  CheckoutPrice\n",
       "StockCode                                \n",
       "23166     201101     74215   77183.590000\n",
       "          201105       792     869.039990\n",
       "          201106       391     458.510000\n",
       "          201107       718     826.940000\n",
       "          201108       405     486.090000\n",
       "          201109       342     397.260000\n",
       "          201110       235     283.670000\n",
       "          201111       631     708.110000\n",
       "          201112       187     203.510000\n",
       "23843     201112     80995  168469.600000\n",
       "84077     201012      5139    1150.470000\n",
       "          201101      1488     385.440000\n",
       "          201102      3457     795.170000\n",
       "          201103      3888     943.200000\n",
       "          201104     10224    2281.439950\n",
       "          201105      4944    1249.440000\n",
       "          201106      1920     533.760000\n",
       "          201107      3600     982.559995\n",
       "          201108      2256     654.240000\n",
       "          201109      3462     985.699999\n",
       "          201110      8174    1953.979940\n",
       "          201111      4500    1294.200000\n",
       "          201112      1363     376.650000"
      ]
     },
     "execution_count": 122,
     "metadata": {},
     "output_type": "execute_result"
    }
   ],
   "source": [
    "monthly_top = retail.set_index('InvoiceDate').groupby(['StockCode', extract_month]).sum()[['Quantity', 'CheckoutPrice']].loc[top_selling[:3].index]\n",
    "monthly_top"
   ]
  },
  {
   "cell_type": "code",
   "execution_count": 130,
   "metadata": {},
   "outputs": [
    {
     "data": {
      "image/png": "[encoded data removed]",
      "text/plain": [
       "<Figure size 1440x720 with 1 Axes>"
      ]
     },
     "metadata": {
      "needs_background": "light"
     },
     "output_type": "display_data"
    }
   ],
   "source": [
    "plot = monthly_top['CheckoutPrice'].plot(kind='bar', figsize=(20,10))\n",
    "plot.set_xlabel('(Product, Month)', fontsize=11)\n",
    "plot.set_ylabel('Revenue')\n",
    "plot.set_title('Monthly Revenue of Top 3 Selling Items')\n",
    "plot.set_xticklabels(monthly_top.index, rotation=45);"
   ]
  },
  {
   "cell_type": "markdown",
   "metadata": {},
   "source": [
    "Item 23166 in January 2011 and Item 23843 in December 2011 had significantly large revenue."
   ]
  },
  {
   "cell_type": "code",
   "execution_count": null,
   "metadata": {},
   "outputs": [],
   "source": []
  }
 ],
 "metadata": {
  "kernelspec": {
   "display_name": "Python 3",
   "language": "python",
   "name": "python3"
  },
  "language_info": {
   "codemirror_mode": {
    "name": "ipython",
    "version": 3
   },
   "file_extension": ".py",
   "mimetype": "text/x-python",
   "name": "python",
   "nbconvert_exporter": "python",
   "pygments_lexer": "ipython3",
   "version": "3.7.3"
  }
 },
 "nbformat": 4,
 "nbformat_minor": 2
}
